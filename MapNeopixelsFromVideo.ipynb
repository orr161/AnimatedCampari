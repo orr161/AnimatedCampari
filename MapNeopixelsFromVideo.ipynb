{
 "cells": [
  {
   "cell_type": "code",
   "execution_count": null,
   "metadata": {},
   "outputs": [],
   "source": [
    "import cv2\n",
    "import numpy as np\n",
    "import matplotlib.pyplot as plt\n",
    "import sys\n",
    "%matplotlib inline"
   ]
  },
  {
   "cell_type": "code",
   "execution_count": null,
   "metadata": {},
   "outputs": [],
   "source": [
    "videopath='campari1.mov' #video path\n",
    "framerate=30 #framerate of the video\n",
    "secBetweenPixels=0.2 #pixels change every x pixels\n",
    "firsFrame=1 #First frame to start from (if video is not trimmed)"
   ]
  },
  {
   "cell_type": "code",
   "execution_count": null,
   "metadata": {},
   "outputs": [],
   "source": [
    "vidcap = cv2.VideoCapture(videopath)"
   ]
  },
  {
   "cell_type": "code",
   "execution_count": null,
   "metadata": {},
   "outputs": [],
   "source": [
    "# Load all frames into a dictionary\n",
    "allframes={}\n",
    "a, frame=vidcap.read()\n",
    "i=0\n",
    "while a:\n",
    "    a, frame=vidcap.read()\n",
    "    allframes[i]=frame#cv2.cvtColor(frame, cv2.COLOR_BGR2GRAY)\n",
    "    i=i+1"
   ]
  },
  {
   "cell_type": "code",
   "execution_count": null,
   "metadata": {},
   "outputs": [],
   "source": [
    "#Call the following function with a frame number to examine a specific frame and its pixel call\n",
    "def grayscaleshow(n): \n",
    "    bgray= cv2.cvtColor(allframes[n], cv2.COLOR_BGR2GRAY)\n",
    "    (minVal, maxVal, minLoc, maxLoc) = cv2.minMaxLoc(bgray)\n",
    "    cv2.circle(bgray, maxLoc, 15, (255, 0, 0), 2)\n",
    "    plt.imshow(bgray,cmap='gray')\n",
    "    plt.show()"
   ]
  },
  {
   "cell_type": "code",
   "execution_count": null,
   "metadata": {},
   "outputs": [],
   "source": [
    "# Grayscale and detect brightest pixel\n",
    "def grayscalesave(n): \n",
    "    bgray= cv2.cvtColor(allframes[n], cv2.COLOR_BGR2GRAY)\n",
    "    (minVal, maxVal, minLoc, maxLoc) = cv2.minMaxLoc(bgray)\n",
    "    return(bgray, maxLoc)"
   ]
  },
  {
   "cell_type": "code",
   "execution_count": null,
   "metadata": {},
   "outputs": [],
   "source": [
    "# Calculate the euclidean distance from the previous pixel call, useful to detect mapping errors\n",
    "def distance(x,x0):\n",
    "    diff=( (x0[0]-x[0]) **2 + (x0[1]- x[1]) **2) **0.5\n",
    "    return(diff)"
   ]
  },
  {
   "cell_type": "code",
   "execution_count": null,
   "metadata": {},
   "outputs": [],
   "source": [
    "# Extract coordinates and save to a dictionary\n",
    "# and plot each frame and its coordinates (useful to detect and fix mapping errors)\n",
    "\n",
    "timed={}\n",
    "n=firsFrame\n",
    "i=0\n",
    "while n < len(allframes) :\n",
    "        diff_last_frame= distance(grayscalesave(n)[1], grayscalesave(max(firsFrame,(n-round(secBetweenPixels*framerate))))[1])\n",
    "        timed[i]=[grayscalesave(n)[0],grayscalesave(n)[1],diff_last_frame]\n",
    "        print(\"Pixel: \", i)\n",
    "        print(\"Frame: \", n)\n",
    "        print(\"Euclidean distance from last pixel: \", round(diff_last_frame, 2))\n",
    "        print(\"Coordinates: \",grayscalesave(n)[1])\n",
    "        grayscaleshow(n)\n",
    "        n=n+round(secBetweenPixels*framerate)\n",
    "        i=i+1"
   ]
  },
  {
   "cell_type": "code",
   "execution_count": null,
   "metadata": {
    "scrolled": true
   },
   "outputs": [],
   "source": [
    "# Extract the coordiantes into a list (for trimming and further \n",
    "# manipulations if needed) and then save/copy to a C array in the animation C code\n",
    "coordinates=[]\n",
    "for key, ele in timed.items():\n",
    "    print(ele[1])\n",
    "    coordinates.append(list(ele[1]))"
   ]
  }
 ],
 "metadata": {
  "kernelspec": {
   "display_name": "Python 3",
   "language": "python",
   "name": "python3"
  },
  "language_info": {
   "codemirror_mode": {
    "name": "ipython",
    "version": 3
   },
   "file_extension": ".py",
   "mimetype": "text/x-python",
   "name": "python",
   "nbconvert_exporter": "python",
   "pygments_lexer": "ipython3",
   "version": "3.9.1"
  }
 },
 "nbformat": 4,
 "nbformat_minor": 4
}
